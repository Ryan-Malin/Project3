{
 "cells": [
  {
   "cell_type": "code",
   "execution_count": 17,
   "metadata": {},
   "outputs": [],
   "source": [
    "import pandas as pd\n",
    "from scipy.stats import linregress\n",
    "from scipy import stats \n",
    "import numpy \n",
    "import scipy"
   ]
  },
  {
   "cell_type": "code",
   "execution_count": 18,
   "metadata": {},
   "outputs": [],
   "source": [
    "path = \"Data/us_county_sociohealth_data.csv\"\n",
    "socio_health_df = pd.read_csv(path, delimiter=\",\")\n",
    "\n",
    "csh_df = socio_health_df.loc[socio_health_df.state == \"North Carolina\"]"
   ]
  },
  {
   "cell_type": "code",
   "execution_count": 21,
   "metadata": {},
   "outputs": [],
   "source": [
    "csh_df = csh_df[[\"percentile_rank_no_highschool_diploma\", \"percent_frequent_physical_distress\", \"percent_smokers\",\n",
    "                        \"percent_fair_or_poor_health\", \"percent_below_poverty\", \"percentile_rank_below_poverty\", \"percentile_rank_per_capita_income\",\n",
    "                        \"median_household_income\", \"percentile_rank_no_highschool_diploma\", \"percent_frequent_physical_distress\", \n",
    "                        \"average_number_of_physically_unhealthy_days\", \"percent_smokers\", \"percent_fair_or_poor_health\", \"percent_below_poverty\",\n",
    "                        \"percentile_rank_per_capita_income\", \"percentile_rank_social_vulnerability\", \"per_capita_income\",\n",
    "                 \"percent_frequent_mental_distress\", \"average_number_of_mentally_unhealthy_days\"]]\n",
    "csh_df.to_csv(\"Data/csh.csv\", index=False)"
   ]
  },
  {
   "cell_type": "code",
   "execution_count": 20,
   "metadata": {},
   "outputs": [],
   "source": []
  }
 ],
 "metadata": {
  "kernelspec": {
   "display_name": "Python 3",
   "language": "python",
   "name": "python3"
  },
  "language_info": {
   "codemirror_mode": {
    "name": "ipython",
    "version": 3
   },
   "file_extension": ".py",
   "mimetype": "text/x-python",
   "name": "python",
   "nbconvert_exporter": "python",
   "pygments_lexer": "ipython3",
   "version": "3.8.5"
  }
 },
 "nbformat": 4,
 "nbformat_minor": 4
}
