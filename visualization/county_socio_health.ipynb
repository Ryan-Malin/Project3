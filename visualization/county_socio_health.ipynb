{
 "cells": [
  {
   "cell_type": "code",
   "execution_count": 8,
   "metadata": {},
   "outputs": [],
   "source": [
    "import pandas as pd\n",
    "from scipy.stats import linregress\n",
    "from scipy import stats\n",
    "import csv\n",
    "from scipy import stats\n",
    "import numpy\n",
    "import scipy"
   ]
  },
  {
   "cell_type": "code",
   "execution_count": 9,
   "metadata": {},
   "outputs": [],
   "source": [
    "# Loading csv file to a dataframe\n",
    "path = \"Data/us_county_sociohealth_data.csv\"\n",
    "socio_health_df = pd.read_csv(path, delimiter=\",\")\n",
    "\n",
    "# Filtering dataframe only for state North Carolina\n",
    "csh11_df = socio_health_df.loc[socio_health_df.state == \"North Carolina\"]\n",
    "csh11_df.to_csv(\"Data/csh11.csv\", index=False)"
   ]
  },
  {
   "cell_type": "code",
   "execution_count": 10,
   "metadata": {},
   "outputs": [],
   "source": [
    "#  Identifying and filtering some relational filds related to mental health and exporting to a csv file.\n",
    "csh_df = csh11_df[[\"county\", \"percent_frequent_physical_distress\", \"percent_smokers\",\"percent_fair_or_poor_health\",\n",
    "                 \"percent_below_poverty\",\"percentile_rank_below_poverty\",\"median_household_income\",\n",
    "                 \"percentile_rank_no_highschool_diploma\",\"average_number_of_physically_unhealthy_days\",\n",
    "                 \"percentile_rank_per_capita_income\",\"percentile_rank_social_vulnerability\",\"per_capita_income\",\n",
    "                \"percent_frequent_mental_distress\",\"average_number_of_mentally_unhealthy_days\"]]\n",
    "csh_df.to_csv(\"Data/csh.csv\", index=False)\n",
    "\n",
    "# csh_df is exporting to two csv files(csh1.csv and csh2.csv) for the convenience of plotting.\n",
    "csh1_df = csh_df[[\"percent_smokers\",\"percent_frequent_physical_distress\",\"percent_fair_or_poor_health\", \"percent_below_poverty\",\n",
    "                 \"percentile_rank_below_poverty\",\"median_household_income\",\"percentile_rank_no_highschool_diploma\",\n",
    "                  \"average_number_of_physically_unhealthy_days\",\"percentile_rank_per_capita_income\",\n",
    "                  \"percentile_rank_social_vulnerability\", \"per_capita_income\",\n",
    "                 ]]\n",
    "csh1_df.to_csv(\"Data/csh1.csv\", index=False)\n",
    "\n",
    "csh2_df = csh_df[[\"county\", \"percent_frequent_mental_distress\", \"average_number_of_mentally_unhealthy_days\"]]\n",
    "csh2_df.to_csv(\"Data/csh2.csv\", index=False)"
   ]
  },
  {
   "cell_type": "code",
   "execution_count": null,
   "metadata": {},
   "outputs": [],
   "source": []
  }
 ],
 "metadata": {
  "kernelspec": {
   "display_name": "Python 3",
   "language": "python",
   "name": "python3"
  },
  "language_info": {
   "codemirror_mode": {
    "name": "ipython",
    "version": 3
   },
   "file_extension": ".py",
   "mimetype": "text/x-python",
   "name": "python",
   "nbconvert_exporter": "python",
   "pygments_lexer": "ipython3",
   "version": "3.8.5"
  }
 },
 "nbformat": 4,
 "nbformat_minor": 4
}
